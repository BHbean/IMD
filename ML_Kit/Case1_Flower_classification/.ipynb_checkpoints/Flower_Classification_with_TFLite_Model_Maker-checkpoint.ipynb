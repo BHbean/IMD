{
 "cells": [
  {
   "cell_type": "markdown",
   "metadata": {
    "colab_type": "text",
    "id": "h2q27gKz1H20"
   },
   "source": [
    "##### Copyright 2020 The TensorFlow Authors."
   ]
  },
  {
   "cell_type": "code",
   "execution_count": 1,
   "metadata": {
    "cellView": "form",
    "colab": {},
    "colab_type": "code",
    "id": "TUfAcER1oUS6"
   },
   "outputs": [],
   "source": [
    "#@title Licensed under the Apache License, Version 2.0 (the \"License\");\n",
    "# you may not use this file except in compliance with the License.\n",
    "# You may obtain a copy of the License at\n",
    "#\n",
    "# https://www.apache.org/licenses/LICENSE-2.0\n",
    "#\n",
    "# Unless required by applicable law or agreed to in writing, software\n",
    "# distributed under the License is distributed on an \"AS IS\" BASIS,\n",
    "# WITHOUT WARRANTIES OR CONDITIONS OF ANY KIND, either express or implied.\n",
    "# See the License for the specific language governing permissions and\n",
    "# limitations under the License."
   ]
  },
  {
   "cell_type": "markdown",
   "metadata": {
    "colab_type": "text",
    "id": "Gb7qyhNL1yWt"
   },
   "source": [
    "# Flower classification with TensorFlow Lite Model Maker with TensorFlow 2.0"
   ]
  },
  {
   "cell_type": "markdown",
   "metadata": {
    "colab_type": "text",
    "id": "nDABAblytltI"
   },
   "source": [
    "<table class=\"tfo-notebook-buttons\" align=\"left\">\n",
    "  <td>\n",
    "    <a target=\"_blank\" href=\"https://colab.research.google.com/github/tensorflow/examples/blob/master/lite/codelabs/flower_classification/ml/Flower_Classification_with_TFLite_Model_Maker.ipynb\">      \n",
    "    <img src=\"https://www.tensorflow.org/images/colab_logo_32px.png\" />\n",
    "    Run in Google Colab</a>\n",
    "  </td>\n",
    "  <td>\n",
    "    <a target=\"_blank\" href=\"https://github.com/tensorflow/examples/blob/master/lite/codelabs/flower_classification/ml/Flower_Classification_with_TFLite_Model_Maker.ipynb\">\n",
    "    <img src=\"https://www.tensorflow.org/images/GitHub-Mark-32px.png\" />\n",
    "    View source on GitHub</a>\n",
    "  </td>\n",
    "</table>"
   ]
  },
  {
   "cell_type": "markdown",
   "metadata": {
    "colab_type": "text",
    "id": "m86-Nh4pMHqY"
   },
   "source": [
    "Model Maker library simplifies the process of adapting and converting a TensorFlow neural-network model to particular input data when deploying this model for on-device ML applications.\n",
    "\n",
    "This notebook shows an end-to-end example that utilizes this Model Maker library to illustrate the adaption and conversion of a commonly-used image classification model to classify flowers on a mobile device."
   ]
  },
  {
   "cell_type": "markdown",
   "metadata": {
    "colab_type": "text",
    "id": "bcLF2PKkSbV3"
   },
   "source": [
    "## Prerequisites\n",
    "\n",
    "To run this example, we first need to install serveral required packages, including Model Maker package that in github [repo](https://github.com/tensorflow/examples/tree/master/tensorflow_examples/lite/model_maker)."
   ]
  },
  {
   "cell_type": "code",
   "execution_count": 2,
   "metadata": {
    "colab": {},
    "colab_type": "code",
    "id": "6cv3K3oaksJv"
   },
   "outputs": [
    {
     "name": "stdout",
     "output_type": "stream",
     "text": [
      "Requirement already satisfied: tensorflow-examples[model_maker] from git+git://github.com/tensorflow/examples.git#egg=tensorflow-examples[model_maker] in /Users/neoapple/anaconda3/lib/python3.7/site-packages (de42482b453de6f7b6488203b20e7eec61ee722e-)\n",
      "Requirement already satisfied: six in /Users/neoapple/anaconda3/lib/python3.7/site-packages (from tensorflow-examples[model_maker]) (1.15.0)\n",
      "Requirement already satisfied: absl-py in /Users/neoapple/anaconda3/lib/python3.7/site-packages (from tensorflow-examples[model_maker]) (0.9.0)\n",
      "Requirement already satisfied: flatbuffers==1.12; extra == \"model_maker\" in /Users/neoapple/anaconda3/lib/python3.7/site-packages (from tensorflow-examples[model_maker]) (1.12)\n",
      "Requirement already satisfied: numpy>=1.17.3; extra == \"model_maker\" in /Users/neoapple/anaconda3/lib/python3.7/site-packages (from tensorflow-examples[model_maker]) (1.18.5)\n",
      "Requirement already satisfied: fire; extra == \"model_maker\" in /Users/neoapple/anaconda3/lib/python3.7/site-packages (from tensorflow-examples[model_maker]) (0.3.1)\n",
      "Requirement already satisfied: tflite-support==0.1.0rc3.dev2; extra == \"model_maker\" in /Users/neoapple/anaconda3/lib/python3.7/site-packages (from tensorflow-examples[model_maker]) (0.1.0rc3.dev2)\n",
      "Requirement already satisfied: tensorflow-datasets>=2.1.0; extra == \"model_maker\" in /Users/neoapple/anaconda3/lib/python3.7/site-packages (from tensorflow-examples[model_maker]) (3.2.1)\n",
      "Requirement already satisfied: tensorflow-hub>=0.8.0; extra == \"model_maker\" in /Users/neoapple/anaconda3/lib/python3.7/site-packages (from tensorflow-examples[model_maker]) (0.9.0)\n",
      "Requirement already satisfied: tf-nightly==2.4.0.dev20200810; extra == \"model_maker\" in /Users/neoapple/anaconda3/lib/python3.7/site-packages (from tensorflow-examples[model_maker]) (2.4.0.dev20200810)\n",
      "Requirement already satisfied: tf-models-official; extra == \"model_maker\" in /Users/neoapple/anaconda3/lib/python3.7/site-packages (from tensorflow-examples[model_maker]) (2.3.0)\n",
      "Requirement already satisfied: pillow; extra == \"model_maker\" in /Users/neoapple/anaconda3/lib/python3.7/site-packages (from tensorflow-examples[model_maker]) (5.4.1)\n",
      "Requirement already satisfied: sentencepiece; extra == \"model_maker\" in /Users/neoapple/anaconda3/lib/python3.7/site-packages (from tensorflow-examples[model_maker]) (0.1.91)\n",
      "Requirement already satisfied: termcolor in /Users/neoapple/anaconda3/lib/python3.7/site-packages (from fire; extra == \"model_maker\"->tensorflow-examples[model_maker]) (1.1.0)\n",
      "Requirement already satisfied: pybind11>=2.4 in /Users/neoapple/anaconda3/lib/python3.7/site-packages (from tflite-support==0.1.0rc3.dev2; extra == \"model_maker\"->tensorflow-examples[model_maker]) (2.5.0)\n",
      "Requirement already satisfied: tqdm in /Users/neoapple/anaconda3/lib/python3.7/site-packages (from tensorflow-datasets>=2.1.0; extra == \"model_maker\"->tensorflow-examples[model_maker]) (4.45.0)\n",
      "Requirement already satisfied: tensorflow-metadata in /Users/neoapple/anaconda3/lib/python3.7/site-packages (from tensorflow-datasets>=2.1.0; extra == \"model_maker\"->tensorflow-examples[model_maker]) (0.23.0)\n",
      "Requirement already satisfied: protobuf>=3.6.1 in /Users/neoapple/anaconda3/lib/python3.7/site-packages (from tensorflow-datasets>=2.1.0; extra == \"model_maker\"->tensorflow-examples[model_maker]) (3.13.0)\n",
      "Requirement already satisfied: requests>=2.19.0 in /Users/neoapple/anaconda3/lib/python3.7/site-packages (from tensorflow-datasets>=2.1.0; extra == \"model_maker\"->tensorflow-examples[model_maker]) (2.24.0)\n",
      "Requirement already satisfied: future in /Users/neoapple/anaconda3/lib/python3.7/site-packages (from tensorflow-datasets>=2.1.0; extra == \"model_maker\"->tensorflow-examples[model_maker]) (0.17.1)\n",
      "Requirement already satisfied: promise in /Users/neoapple/anaconda3/lib/python3.7/site-packages (from tensorflow-datasets>=2.1.0; extra == \"model_maker\"->tensorflow-examples[model_maker]) (2.3)\n",
      "Requirement already satisfied: attrs>=18.1.0 in /Users/neoapple/anaconda3/lib/python3.7/site-packages (from tensorflow-datasets>=2.1.0; extra == \"model_maker\"->tensorflow-examples[model_maker]) (19.3.0)\n",
      "Requirement already satisfied: dill in /Users/neoapple/anaconda3/lib/python3.7/site-packages (from tensorflow-datasets>=2.1.0; extra == \"model_maker\"->tensorflow-examples[model_maker]) (0.3.2)\n",
      "Requirement already satisfied: wrapt in /Users/neoapple/anaconda3/lib/python3.7/site-packages (from tensorflow-datasets>=2.1.0; extra == \"model_maker\"->tensorflow-examples[model_maker]) (1.11.1)\n",
      "Requirement already satisfied: google-pasta>=0.1.8 in /Users/neoapple/anaconda3/lib/python3.7/site-packages (from tf-nightly==2.4.0.dev20200810; extra == \"model_maker\"->tensorflow-examples[model_maker]) (0.1.8)\n",
      "Requirement already satisfied: opt-einsum>=2.3.2 in /Users/neoapple/anaconda3/lib/python3.7/site-packages (from tf-nightly==2.4.0.dev20200810; extra == \"model_maker\"->tensorflow-examples[model_maker]) (3.2.0)\n",
      "Requirement already satisfied: h5py<2.11.0,>=2.10.0 in /Users/neoapple/anaconda3/lib/python3.7/site-packages (from tf-nightly==2.4.0.dev20200810; extra == \"model_maker\"->tensorflow-examples[model_maker]) (2.10.0)\n",
      "Requirement already satisfied: gast==0.3.3 in /Users/neoapple/anaconda3/lib/python3.7/site-packages (from tf-nightly==2.4.0.dev20200810; extra == \"model_maker\"->tensorflow-examples[model_maker]) (0.3.3)\n",
      "Requirement already satisfied: keras-preprocessing<1.2,>=1.1.1 in /Users/neoapple/anaconda3/lib/python3.7/site-packages (from tf-nightly==2.4.0.dev20200810; extra == \"model_maker\"->tensorflow-examples[model_maker]) (1.1.2)\n",
      "Requirement already satisfied: tf-estimator-nightly in /Users/neoapple/anaconda3/lib/python3.7/site-packages (from tf-nightly==2.4.0.dev20200810; extra == \"model_maker\"->tensorflow-examples[model_maker]) (2.4.0.dev2020091801)\n",
      "Requirement already satisfied: wheel>=0.26 in /Users/neoapple/anaconda3/lib/python3.7/site-packages (from tf-nightly==2.4.0.dev20200810; extra == \"model_maker\"->tensorflow-examples[model_maker]) (0.33.1)\n",
      "Requirement already satisfied: tb-nightly<3.0.0a0,>=2.4.0a0 in /Users/neoapple/anaconda3/lib/python3.7/site-packages (from tf-nightly==2.4.0.dev20200810; extra == \"model_maker\"->tensorflow-examples[model_maker]) (2.4.0a20200917)\n",
      "Requirement already satisfied: grpcio>=1.8.6 in /Users/neoapple/anaconda3/lib/python3.7/site-packages (from tf-nightly==2.4.0.dev20200810; extra == \"model_maker\"->tensorflow-examples[model_maker]) (1.16.0)\n",
      "Requirement already satisfied: astunparse==1.6.3 in /Users/neoapple/anaconda3/lib/python3.7/site-packages (from tf-nightly==2.4.0.dev20200810; extra == \"model_maker\"->tensorflow-examples[model_maker]) (1.6.3)\n",
      "Requirement already satisfied: tensorflow>=2.3.0 in /Users/neoapple/anaconda3/lib/python3.7/site-packages (from tf-models-official; extra == \"model_maker\"->tensorflow-examples[model_maker]) (2.3.0)\n",
      "Requirement already satisfied: dataclasses in /Users/neoapple/anaconda3/lib/python3.7/site-packages (from tf-models-official; extra == \"model_maker\"->tensorflow-examples[model_maker]) (0.6)\n",
      "Requirement already satisfied: pandas>=0.22.0 in /Users/neoapple/anaconda3/lib/python3.7/site-packages (from tf-models-official; extra == \"model_maker\"->tensorflow-examples[model_maker]) (0.24.2)\n",
      "Requirement already satisfied: Cython in /Users/neoapple/anaconda3/lib/python3.7/site-packages (from tf-models-official; extra == \"model_maker\"->tensorflow-examples[model_maker]) (0.29.6)\n",
      "Requirement already satisfied: tensorflow-addons in /Users/neoapple/anaconda3/lib/python3.7/site-packages (from tf-models-official; extra == \"model_maker\"->tensorflow-examples[model_maker]) (0.7.1)\n",
      "Requirement already satisfied: psutil>=5.4.3 in /Users/neoapple/anaconda3/lib/python3.7/site-packages (from tf-models-official; extra == \"model_maker\"->tensorflow-examples[model_maker]) (5.6.1)\n",
      "Requirement already satisfied: scipy>=0.19.1 in /Users/neoapple/anaconda3/lib/python3.7/site-packages (from tf-models-official; extra == \"model_maker\"->tensorflow-examples[model_maker]) (1.4.1)\n",
      "Requirement already satisfied: gin-config in /Users/neoapple/anaconda3/lib/python3.7/site-packages (from tf-models-official; extra == \"model_maker\"->tensorflow-examples[model_maker]) (0.3.0)\n",
      "Requirement already satisfied: tf-slim>=1.1.0 in /Users/neoapple/anaconda3/lib/python3.7/site-packages (from tf-models-official; extra == \"model_maker\"->tensorflow-examples[model_maker]) (1.1.0)\n",
      "Requirement already satisfied: py-cpuinfo>=3.3.0 in /Users/neoapple/anaconda3/lib/python3.7/site-packages (from tf-models-official; extra == \"model_maker\"->tensorflow-examples[model_maker]) (7.0.0)\n",
      "Requirement already satisfied: google-api-python-client>=1.6.7 in /Users/neoapple/anaconda3/lib/python3.7/site-packages (from tf-models-official; extra == \"model_maker\"->tensorflow-examples[model_maker]) (1.10.0)\n",
      "Requirement already satisfied: google-cloud-bigquery>=0.31.0 in /Users/neoapple/anaconda3/lib/python3.7/site-packages (from tf-models-official; extra == \"model_maker\"->tensorflow-examples[model_maker]) (1.27.2)\n"
     ]
    },
    {
     "name": "stdout",
     "output_type": "stream",
     "text": [
      "Requirement already satisfied: kaggle>=1.3.9 in /Users/neoapple/anaconda3/lib/python3.7/site-packages (from tf-models-official; extra == \"model_maker\"->tensorflow-examples[model_maker]) (1.5.8)\n",
      "Requirement already satisfied: tensorflow-model-optimization>=0.2.1 in /Users/neoapple/anaconda3/lib/python3.7/site-packages (from tf-models-official; extra == \"model_maker\"->tensorflow-examples[model_maker]) (0.5.0)\n",
      "Requirement already satisfied: opencv-python-headless in /Users/neoapple/anaconda3/lib/python3.7/site-packages (from tf-models-official; extra == \"model_maker\"->tensorflow-examples[model_maker]) (4.4.0.42)\n",
      "Requirement already satisfied: matplotlib in /Users/neoapple/anaconda3/lib/python3.7/site-packages (from tf-models-official; extra == \"model_maker\"->tensorflow-examples[model_maker]) (3.1.3)\n",
      "Requirement already satisfied: pyyaml in /Users/neoapple/anaconda3/lib/python3.7/site-packages (from tf-models-official; extra == \"model_maker\"->tensorflow-examples[model_maker]) (5.1)\n",
      "Requirement already satisfied: googleapis-common-protos in /Users/neoapple/anaconda3/lib/python3.7/site-packages (from tensorflow-metadata->tensorflow-datasets>=2.1.0; extra == \"model_maker\"->tensorflow-examples[model_maker]) (1.52.0)\n",
      "Requirement already satisfied: setuptools in /Users/neoapple/anaconda3/lib/python3.7/site-packages (from protobuf>=3.6.1->tensorflow-datasets>=2.1.0; extra == \"model_maker\"->tensorflow-examples[model_maker]) (45.2.0)\n",
      "Requirement already satisfied: urllib3!=1.25.0,!=1.25.1,<1.26,>=1.21.1 in /Users/neoapple/anaconda3/lib/python3.7/site-packages (from requests>=2.19.0->tensorflow-datasets>=2.1.0; extra == \"model_maker\"->tensorflow-examples[model_maker]) (1.24.1)\n",
      "Requirement already satisfied: idna<3,>=2.5 in /Users/neoapple/anaconda3/lib/python3.7/site-packages (from requests>=2.19.0->tensorflow-datasets>=2.1.0; extra == \"model_maker\"->tensorflow-examples[model_maker]) (2.8)\n",
      "Requirement already satisfied: certifi>=2017.4.17 in /Users/neoapple/anaconda3/lib/python3.7/site-packages (from requests>=2.19.0->tensorflow-datasets>=2.1.0; extra == \"model_maker\"->tensorflow-examples[model_maker]) (2019.3.9)\n",
      "Requirement already satisfied: chardet<4,>=3.0.2 in /Users/neoapple/anaconda3/lib/python3.7/site-packages (from requests>=2.19.0->tensorflow-datasets>=2.1.0; extra == \"model_maker\"->tensorflow-examples[model_maker]) (3.0.4)\n",
      "Requirement already satisfied: werkzeug>=0.11.15 in /Users/neoapple/anaconda3/lib/python3.7/site-packages (from tb-nightly<3.0.0a0,>=2.4.0a0->tf-nightly==2.4.0.dev20200810; extra == \"model_maker\"->tensorflow-examples[model_maker]) (0.14.1)\n",
      "Requirement already satisfied: markdown>=2.6.8 in /Users/neoapple/anaconda3/lib/python3.7/site-packages (from tb-nightly<3.0.0a0,>=2.4.0a0->tf-nightly==2.4.0.dev20200810; extra == \"model_maker\"->tensorflow-examples[model_maker]) (3.2.1)\n",
      "Requirement already satisfied: google-auth-oauthlib<0.5,>=0.4.1 in /Users/neoapple/anaconda3/lib/python3.7/site-packages (from tb-nightly<3.0.0a0,>=2.4.0a0->tf-nightly==2.4.0.dev20200810; extra == \"model_maker\"->tensorflow-examples[model_maker]) (0.4.1)\n",
      "Requirement already satisfied: tensorboard-plugin-wit>=1.6.0 in /Users/neoapple/anaconda3/lib/python3.7/site-packages (from tb-nightly<3.0.0a0,>=2.4.0a0->tf-nightly==2.4.0.dev20200810; extra == \"model_maker\"->tensorflow-examples[model_maker]) (1.7.0)\n",
      "Requirement already satisfied: google-auth<2,>=1.6.3 in /Users/neoapple/anaconda3/lib/python3.7/site-packages (from tb-nightly<3.0.0a0,>=2.4.0a0->tf-nightly==2.4.0.dev20200810; extra == \"model_maker\"->tensorflow-examples[model_maker]) (1.20.1)\n",
      "Requirement already satisfied: tensorboard<3,>=2.3.0 in /Users/neoapple/anaconda3/lib/python3.7/site-packages (from tensorflow>=2.3.0->tf-models-official; extra == \"model_maker\"->tensorflow-examples[model_maker]) (2.3.0)\n",
      "Requirement already satisfied: tensorflow-estimator<2.4.0,>=2.3.0 in /Users/neoapple/anaconda3/lib/python3.7/site-packages (from tensorflow>=2.3.0->tf-models-official; extra == \"model_maker\"->tensorflow-examples[model_maker]) (2.3.0)\n",
      "Requirement already satisfied: pytz>=2011k in /Users/neoapple/anaconda3/lib/python3.7/site-packages (from pandas>=0.22.0->tf-models-official; extra == \"model_maker\"->tensorflow-examples[model_maker]) (2019.3)\n",
      "Requirement already satisfied: python-dateutil>=2.5.0 in /Users/neoapple/anaconda3/lib/python3.7/site-packages (from pandas>=0.22.0->tf-models-official; extra == \"model_maker\"->tensorflow-examples[model_maker]) (2.8.1)\n",
      "Requirement already satisfied: httplib2<1dev,>=0.9.2 in /Users/neoapple/anaconda3/lib/python3.7/site-packages (from google-api-python-client>=1.6.7->tf-models-official; extra == \"model_maker\"->tensorflow-examples[model_maker]) (0.17.2)\n",
      "Requirement already satisfied: uritemplate<4dev,>=3.0.0 in /Users/neoapple/anaconda3/lib/python3.7/site-packages (from google-api-python-client>=1.6.7->tf-models-official; extra == \"model_maker\"->tensorflow-examples[model_maker]) (3.0.1)\n",
      "Requirement already satisfied: google-api-core<2dev,>=1.18.0 in /Users/neoapple/anaconda3/lib/python3.7/site-packages (from google-api-python-client>=1.6.7->tf-models-official; extra == \"model_maker\"->tensorflow-examples[model_maker]) (1.22.1)\n",
      "Requirement already satisfied: google-auth-httplib2>=0.0.3 in /Users/neoapple/anaconda3/lib/python3.7/site-packages (from google-api-python-client>=1.6.7->tf-models-official; extra == \"model_maker\"->tensorflow-examples[model_maker]) (0.0.4)\n",
      "Requirement already satisfied: google-resumable-media<2.0dev,>=0.5.0 in /Users/neoapple/anaconda3/lib/python3.7/site-packages (from google-cloud-bigquery>=0.31.0->tf-models-official; extra == \"model_maker\"->tensorflow-examples[model_maker]) (1.0.0)\n",
      "Requirement already satisfied: google-cloud-core<2.0dev,>=1.4.1 in /Users/neoapple/anaconda3/lib/python3.7/site-packages (from google-cloud-bigquery>=0.31.0->tf-models-official; extra == \"model_maker\"->tensorflow-examples[model_maker]) (1.4.1)\n",
      "Requirement already satisfied: slugify in /Users/neoapple/anaconda3/lib/python3.7/site-packages (from kaggle>=1.3.9->tf-models-official; extra == \"model_maker\"->tensorflow-examples[model_maker]) (0.0.1)\n",
      "Requirement already satisfied: python-slugify in /Users/neoapple/anaconda3/lib/python3.7/site-packages (from kaggle>=1.3.9->tf-models-official; extra == \"model_maker\"->tensorflow-examples[model_maker]) (4.0.1)\n",
      "Requirement already satisfied: dm-tree~=0.1.1 in /Users/neoapple/anaconda3/lib/python3.7/site-packages (from tensorflow-model-optimization>=0.2.1->tf-models-official; extra == \"model_maker\"->tensorflow-examples[model_maker]) (0.1.5)\n",
      "Requirement already satisfied: pyparsing!=2.0.4,!=2.1.2,!=2.1.6,>=2.0.1 in /Users/neoapple/anaconda3/lib/python3.7/site-packages (from matplotlib->tf-models-official; extra == \"model_maker\"->tensorflow-examples[model_maker]) (2.3.1)\n",
      "Requirement already satisfied: cycler>=0.10 in /Users/neoapple/anaconda3/lib/python3.7/site-packages (from matplotlib->tf-models-official; extra == \"model_maker\"->tensorflow-examples[model_maker]) (0.10.0)\n",
      "Requirement already satisfied: kiwisolver>=1.0.1 in /Users/neoapple/anaconda3/lib/python3.7/site-packages (from matplotlib->tf-models-official; extra == \"model_maker\"->tensorflow-examples[model_maker]) (1.0.1)\n",
      "Requirement already satisfied: requests-oauthlib>=0.7.0 in /Users/neoapple/anaconda3/lib/python3.7/site-packages (from google-auth-oauthlib<0.5,>=0.4.1->tb-nightly<3.0.0a0,>=2.4.0a0->tf-nightly==2.4.0.dev20200810; extra == \"model_maker\"->tensorflow-examples[model_maker]) (1.3.0)\n",
      "Requirement already satisfied: pyasn1-modules>=0.2.1 in /Users/neoapple/anaconda3/lib/python3.7/site-packages (from google-auth<2,>=1.6.3->tb-nightly<3.0.0a0,>=2.4.0a0->tf-nightly==2.4.0.dev20200810; extra == \"model_maker\"->tensorflow-examples[model_maker]) (0.2.8)\n",
      "Requirement already satisfied: rsa<5,>=3.1.4; python_version >= \"3.5\" in /Users/neoapple/anaconda3/lib/python3.7/site-packages (from google-auth<2,>=1.6.3->tb-nightly<3.0.0a0,>=2.4.0a0->tf-nightly==2.4.0.dev20200810; extra == \"model_maker\"->tensorflow-examples[model_maker]) (4.0)\n",
      "Requirement already satisfied: cachetools<5.0,>=2.0.0 in /Users/neoapple/anaconda3/lib/python3.7/site-packages (from google-auth<2,>=1.6.3->tb-nightly<3.0.0a0,>=2.4.0a0->tf-nightly==2.4.0.dev20200810; extra == \"model_maker\"->tensorflow-examples[model_maker]) (4.0.0)\n",
      "Requirement already satisfied: google-crc32c<2.0dev,>=1.0; python_version >= \"3.5\" in /Users/neoapple/anaconda3/lib/python3.7/site-packages (from google-resumable-media<2.0dev,>=0.5.0->google-cloud-bigquery>=0.31.0->tf-models-official; extra == \"model_maker\"->tensorflow-examples[model_maker]) (1.0.0)\n",
      "Requirement already satisfied: text-unidecode>=1.3 in /Users/neoapple/anaconda3/lib/python3.7/site-packages (from python-slugify->kaggle>=1.3.9->tf-models-official; extra == \"model_maker\"->tensorflow-examples[model_maker]) (1.3)\n",
      "Requirement already satisfied: oauthlib>=3.0.0 in /Users/neoapple/anaconda3/lib/python3.7/site-packages (from requests-oauthlib>=0.7.0->google-auth-oauthlib<0.5,>=0.4.1->tb-nightly<3.0.0a0,>=2.4.0a0->tf-nightly==2.4.0.dev20200810; extra == \"model_maker\"->tensorflow-examples[model_maker]) (3.1.0)\n",
      "Requirement already satisfied: pyasn1<0.5.0,>=0.4.6 in /Users/neoapple/anaconda3/lib/python3.7/site-packages (from pyasn1-modules>=0.2.1->google-auth<2,>=1.6.3->tb-nightly<3.0.0a0,>=2.4.0a0->tf-nightly==2.4.0.dev20200810; extra == \"model_maker\"->tensorflow-examples[model_maker]) (0.4.8)\n",
      "Requirement already satisfied: cffi>=1.0.0 in /Users/neoapple/anaconda3/lib/python3.7/site-packages (from google-crc32c<2.0dev,>=1.0; python_version >= \"3.5\"->google-resumable-media<2.0dev,>=0.5.0->google-cloud-bigquery>=0.31.0->tf-models-official; extra == \"model_maker\"->tensorflow-examples[model_maker]) (1.12.2)\n",
      "Requirement already satisfied: pycparser in /Users/neoapple/anaconda3/lib/python3.7/site-packages (from cffi>=1.0.0->google-crc32c<2.0dev,>=1.0; python_version >= \"3.5\"->google-resumable-media<2.0dev,>=0.5.0->google-cloud-bigquery>=0.31.0->tf-models-official; extra == \"model_maker\"->tensorflow-examples[model_maker]) (2.19)\n"
     ]
    }
   ],
   "source": [
    "!pip install git+git://github.com/tensorflow/examples.git#egg=tensorflow-examples[model_maker]"
   ]
  },
  {
   "cell_type": "markdown",
   "metadata": {
    "colab_type": "text",
    "id": "Gx1HGRoFQ54j"
   },
   "source": [
    "Import the required packages."
   ]
  },
  {
   "cell_type": "code",
   "execution_count": 3,
   "metadata": {
    "colab": {},
    "colab_type": "code",
    "id": "XtxiUeZEiXpt"
   },
   "outputs": [
    {
     "ename": "NotFoundError",
     "evalue": "dlopen(/Users/neoapple/anaconda3/lib/python3.7/site-packages/tensorflow_addons/custom_ops/activations/_activation_ops.so, 6): Symbol not found: __ZN10tensorflow11GetNodeAttrERKNS_9AttrSliceEN4absl11string_viewEPb\n  Referenced from: /Users/neoapple/anaconda3/lib/python3.7/site-packages/tensorflow_addons/custom_ops/activations/_activation_ops.so\n  Expected in: /Users/neoapple/anaconda3/lib/python3.7/site-packages/tensorflow/python/../libtensorflow_framework.2.dylib\n in /Users/neoapple/anaconda3/lib/python3.7/site-packages/tensorflow_addons/custom_ops/activations/_activation_ops.so",
     "output_type": "error",
     "traceback": [
      "\u001b[0;31m---------------------------------------------------------------------------\u001b[0m",
      "\u001b[0;31mNotFoundError\u001b[0m                             Traceback (most recent call last)",
      "\u001b[0;32m<ipython-input-3-15e57aa9f2b7>\u001b[0m in \u001b[0;36m<module>\u001b[0;34m\u001b[0m\n\u001b[1;32m      4\u001b[0m \u001b[0;32massert\u001b[0m \u001b[0mtf\u001b[0m\u001b[0;34m.\u001b[0m\u001b[0m__version__\u001b[0m\u001b[0;34m.\u001b[0m\u001b[0mstartswith\u001b[0m\u001b[0;34m(\u001b[0m\u001b[0;34m'2'\u001b[0m\u001b[0;34m)\u001b[0m\u001b[0;34m\u001b[0m\u001b[0;34m\u001b[0m\u001b[0m\n\u001b[1;32m      5\u001b[0m \u001b[0;34m\u001b[0m\u001b[0m\n\u001b[0;32m----> 6\u001b[0;31m \u001b[0;32mfrom\u001b[0m \u001b[0mtensorflow_examples\u001b[0m\u001b[0;34m.\u001b[0m\u001b[0mlite\u001b[0m\u001b[0;34m.\u001b[0m\u001b[0mmodel_maker\u001b[0m\u001b[0;34m.\u001b[0m\u001b[0mcore\u001b[0m\u001b[0;34m.\u001b[0m\u001b[0mdata_util\u001b[0m\u001b[0;34m.\u001b[0m\u001b[0mimage_dataloader\u001b[0m \u001b[0;32mimport\u001b[0m \u001b[0mImageClassifierDataLoader\u001b[0m\u001b[0;34m\u001b[0m\u001b[0;34m\u001b[0m\u001b[0m\n\u001b[0m\u001b[1;32m      7\u001b[0m \u001b[0;32mfrom\u001b[0m \u001b[0mtensorflow_examples\u001b[0m\u001b[0;34m.\u001b[0m\u001b[0mlite\u001b[0m\u001b[0;34m.\u001b[0m\u001b[0mmodel_maker\u001b[0m\u001b[0;34m.\u001b[0m\u001b[0mcore\u001b[0m\u001b[0;34m.\u001b[0m\u001b[0mtask\u001b[0m \u001b[0;32mimport\u001b[0m \u001b[0mimage_classifier\u001b[0m\u001b[0;34m\u001b[0m\u001b[0;34m\u001b[0m\u001b[0m\n\u001b[1;32m      8\u001b[0m \u001b[0;32mfrom\u001b[0m \u001b[0mtensorflow_examples\u001b[0m\u001b[0;34m.\u001b[0m\u001b[0mlite\u001b[0m\u001b[0;34m.\u001b[0m\u001b[0mmodel_maker\u001b[0m\u001b[0;34m.\u001b[0m\u001b[0mcore\u001b[0m\u001b[0;34m.\u001b[0m\u001b[0mtask\u001b[0m\u001b[0;34m.\u001b[0m\u001b[0mmodel_spec\u001b[0m \u001b[0;32mimport\u001b[0m \u001b[0mmobilenet_v2_spec\u001b[0m\u001b[0;34m\u001b[0m\u001b[0;34m\u001b[0m\u001b[0m\n",
      "\u001b[0;32m~/Documents/Workspace/PycharmProjects/tensorflow_examples/tensorflow_examples/lite/model_maker/pip_package/src/tensorflow_examples/lite/model_maker/__init__.py\u001b[0m in \u001b[0;36m<module>\u001b[0;34m\u001b[0m\n\u001b[1;32m     17\u001b[0m \u001b[0;34m\u001b[0m\u001b[0m\n\u001b[1;32m     18\u001b[0m \u001b[0;32mfrom\u001b[0m \u001b[0mtensorflow_examples\u001b[0m\u001b[0;34m.\u001b[0m\u001b[0mlite\u001b[0m\u001b[0;34m.\u001b[0m\u001b[0mmodel_maker\u001b[0m\u001b[0;34m.\u001b[0m\u001b[0mcore\u001b[0m\u001b[0;34m.\u001b[0m\u001b[0mdata_util\u001b[0m \u001b[0;32mimport\u001b[0m \u001b[0mimage_dataloader\u001b[0m\u001b[0;34m\u001b[0m\u001b[0;34m\u001b[0m\u001b[0m\n\u001b[0;32m---> 19\u001b[0;31m \u001b[0;32mfrom\u001b[0m \u001b[0mtensorflow_examples\u001b[0m\u001b[0;34m.\u001b[0m\u001b[0mlite\u001b[0m\u001b[0;34m.\u001b[0m\u001b[0mmodel_maker\u001b[0m\u001b[0;34m.\u001b[0m\u001b[0mcore\u001b[0m\u001b[0;34m.\u001b[0m\u001b[0mdata_util\u001b[0m \u001b[0;32mimport\u001b[0m \u001b[0mtext_dataloader\u001b[0m\u001b[0;34m\u001b[0m\u001b[0;34m\u001b[0m\u001b[0m\n\u001b[0m\u001b[1;32m     20\u001b[0m \u001b[0;32mfrom\u001b[0m \u001b[0mtensorflow_examples\u001b[0m\u001b[0;34m.\u001b[0m\u001b[0mlite\u001b[0m\u001b[0;34m.\u001b[0m\u001b[0mmodel_maker\u001b[0m\u001b[0;34m.\u001b[0m\u001b[0mcore\u001b[0m\u001b[0;34m.\u001b[0m\u001b[0mdata_util\u001b[0m\u001b[0;34m.\u001b[0m\u001b[0mimage_dataloader\u001b[0m \u001b[0;32mimport\u001b[0m \u001b[0mImageClassifierDataLoader\u001b[0m\u001b[0;34m\u001b[0m\u001b[0;34m\u001b[0m\u001b[0m\n\u001b[1;32m     21\u001b[0m \u001b[0;32mfrom\u001b[0m \u001b[0mtensorflow_examples\u001b[0m\u001b[0;34m.\u001b[0m\u001b[0mlite\u001b[0m\u001b[0;34m.\u001b[0m\u001b[0mmodel_maker\u001b[0m\u001b[0;34m.\u001b[0m\u001b[0mcore\u001b[0m\u001b[0;34m.\u001b[0m\u001b[0mdata_util\u001b[0m\u001b[0;34m.\u001b[0m\u001b[0mtext_dataloader\u001b[0m \u001b[0;32mimport\u001b[0m \u001b[0mQuestionAnswerDataLoader\u001b[0m\u001b[0;34m\u001b[0m\u001b[0;34m\u001b[0m\u001b[0m\n",
      "\u001b[0;32m~/Documents/Workspace/PycharmProjects/tensorflow_examples/tensorflow_examples/lite/model_maker/pip_package/src/tensorflow_examples/lite/model_maker/core/data_util/text_dataloader.py\u001b[0m in \u001b[0;36m<module>\u001b[0;34m\u001b[0m\n\u001b[1;32m     29\u001b[0m \u001b[0;32mfrom\u001b[0m \u001b[0mtensorflow_examples\u001b[0m\u001b[0;34m.\u001b[0m\u001b[0mlite\u001b[0m\u001b[0;34m.\u001b[0m\u001b[0mmodel_maker\u001b[0m\u001b[0;34m.\u001b[0m\u001b[0mcore\u001b[0m \u001b[0;32mimport\u001b[0m \u001b[0mfile_util\u001b[0m\u001b[0;34m\u001b[0m\u001b[0;34m\u001b[0m\u001b[0m\n\u001b[1;32m     30\u001b[0m \u001b[0;32mfrom\u001b[0m \u001b[0mtensorflow_examples\u001b[0m\u001b[0;34m.\u001b[0m\u001b[0mlite\u001b[0m\u001b[0;34m.\u001b[0m\u001b[0mmodel_maker\u001b[0m\u001b[0;34m.\u001b[0m\u001b[0mcore\u001b[0m\u001b[0;34m.\u001b[0m\u001b[0mdata_util\u001b[0m \u001b[0;32mimport\u001b[0m \u001b[0mdataloader\u001b[0m\u001b[0;34m\u001b[0m\u001b[0;34m\u001b[0m\u001b[0m\n\u001b[0;32m---> 31\u001b[0;31m \u001b[0;32mfrom\u001b[0m \u001b[0mtensorflow_examples\u001b[0m\u001b[0;34m.\u001b[0m\u001b[0mlite\u001b[0m\u001b[0;34m.\u001b[0m\u001b[0mmodel_maker\u001b[0m\u001b[0;34m.\u001b[0m\u001b[0mcore\u001b[0m\u001b[0;34m.\u001b[0m\u001b[0mtask\u001b[0m \u001b[0;32mimport\u001b[0m \u001b[0mmodel_spec\u001b[0m \u001b[0;32mas\u001b[0m \u001b[0mms\u001b[0m\u001b[0;34m\u001b[0m\u001b[0;34m\u001b[0m\u001b[0m\n\u001b[0m\u001b[1;32m     32\u001b[0m \u001b[0;34m\u001b[0m\u001b[0m\n\u001b[1;32m     33\u001b[0m \u001b[0;32mfrom\u001b[0m \u001b[0mofficial\u001b[0m\u001b[0;34m.\u001b[0m\u001b[0mnlp\u001b[0m\u001b[0;34m.\u001b[0m\u001b[0mbert\u001b[0m \u001b[0;32mimport\u001b[0m \u001b[0minput_pipeline\u001b[0m\u001b[0;34m\u001b[0m\u001b[0;34m\u001b[0m\u001b[0m\n",
      "\u001b[0;32m~/Documents/Workspace/PycharmProjects/tensorflow_examples/tensorflow_examples/lite/model_maker/pip_package/src/tensorflow_examples/lite/model_maker/core/task/model_spec.py\u001b[0m in \u001b[0;36m<module>\u001b[0;34m\u001b[0m\n\u001b[1;32m     32\u001b[0m \u001b[0;32mimport\u001b[0m \u001b[0mtensorflow_hub\u001b[0m \u001b[0;32mas\u001b[0m \u001b[0mhub\u001b[0m\u001b[0;34m\u001b[0m\u001b[0;34m\u001b[0m\u001b[0m\n\u001b[1;32m     33\u001b[0m \u001b[0;32mfrom\u001b[0m \u001b[0mtensorflow_hub\u001b[0m \u001b[0;32mimport\u001b[0m \u001b[0mregistry\u001b[0m\u001b[0;34m\u001b[0m\u001b[0;34m\u001b[0m\u001b[0m\n\u001b[0;32m---> 34\u001b[0;31m \u001b[0;32mfrom\u001b[0m \u001b[0mofficial\u001b[0m\u001b[0;34m.\u001b[0m\u001b[0mnlp\u001b[0m \u001b[0;32mimport\u001b[0m \u001b[0moptimization\u001b[0m\u001b[0;34m\u001b[0m\u001b[0;34m\u001b[0m\u001b[0m\n\u001b[0m\u001b[1;32m     35\u001b[0m \u001b[0;32mfrom\u001b[0m \u001b[0mofficial\u001b[0m\u001b[0;34m.\u001b[0m\u001b[0mnlp\u001b[0m\u001b[0;34m.\u001b[0m\u001b[0mbert\u001b[0m \u001b[0;32mimport\u001b[0m \u001b[0mconfigs\u001b[0m \u001b[0;32mas\u001b[0m \u001b[0mbert_configs\u001b[0m\u001b[0;34m\u001b[0m\u001b[0;34m\u001b[0m\u001b[0m\n\u001b[1;32m     36\u001b[0m \u001b[0;32mfrom\u001b[0m \u001b[0mofficial\u001b[0m\u001b[0;34m.\u001b[0m\u001b[0mnlp\u001b[0m\u001b[0;34m.\u001b[0m\u001b[0mbert\u001b[0m \u001b[0;32mimport\u001b[0m \u001b[0mrun_squad_helper\u001b[0m\u001b[0;34m\u001b[0m\u001b[0;34m\u001b[0m\u001b[0m\n",
      "\u001b[0;32m~/anaconda3/lib/python3.7/site-packages/official/nlp/optimization.py\u001b[0m in \u001b[0;36m<module>\u001b[0;34m\u001b[0m\n\u001b[1;32m     23\u001b[0m \u001b[0;32mimport\u001b[0m \u001b[0mgin\u001b[0m\u001b[0;34m\u001b[0m\u001b[0;34m\u001b[0m\u001b[0m\n\u001b[1;32m     24\u001b[0m \u001b[0;32mimport\u001b[0m \u001b[0mtensorflow\u001b[0m \u001b[0;32mas\u001b[0m \u001b[0mtf\u001b[0m\u001b[0;34m\u001b[0m\u001b[0;34m\u001b[0m\u001b[0m\n\u001b[0;32m---> 25\u001b[0;31m \u001b[0;32mimport\u001b[0m \u001b[0mtensorflow_addons\u001b[0m\u001b[0;34m.\u001b[0m\u001b[0moptimizers\u001b[0m \u001b[0;32mas\u001b[0m \u001b[0mtfa_optimizers\u001b[0m\u001b[0;34m\u001b[0m\u001b[0;34m\u001b[0m\u001b[0m\n\u001b[0m\u001b[1;32m     26\u001b[0m \u001b[0;34m\u001b[0m\u001b[0m\n\u001b[1;32m     27\u001b[0m \u001b[0;34m\u001b[0m\u001b[0m\n",
      "\u001b[0;32m~/anaconda3/lib/python3.7/site-packages/tensorflow_addons/__init__.py\u001b[0m in \u001b[0;36m<module>\u001b[0;34m\u001b[0m\n\u001b[1;32m     19\u001b[0m \u001b[0;34m\u001b[0m\u001b[0m\n\u001b[1;32m     20\u001b[0m \u001b[0;31m# Local project imports\u001b[0m\u001b[0;34m\u001b[0m\u001b[0;34m\u001b[0m\u001b[0;34m\u001b[0m\u001b[0m\n\u001b[0;32m---> 21\u001b[0;31m \u001b[0;32mfrom\u001b[0m \u001b[0mtensorflow_addons\u001b[0m \u001b[0;32mimport\u001b[0m \u001b[0mactivations\u001b[0m\u001b[0;34m\u001b[0m\u001b[0;34m\u001b[0m\u001b[0m\n\u001b[0m\u001b[1;32m     22\u001b[0m \u001b[0;32mfrom\u001b[0m \u001b[0mtensorflow_addons\u001b[0m \u001b[0;32mimport\u001b[0m \u001b[0mcallbacks\u001b[0m\u001b[0;34m\u001b[0m\u001b[0;34m\u001b[0m\u001b[0m\n\u001b[1;32m     23\u001b[0m \u001b[0;32mfrom\u001b[0m \u001b[0mtensorflow_addons\u001b[0m \u001b[0;32mimport\u001b[0m \u001b[0mimage\u001b[0m\u001b[0;34m\u001b[0m\u001b[0;34m\u001b[0m\u001b[0m\n",
      "\u001b[0;32m~/anaconda3/lib/python3.7/site-packages/tensorflow_addons/activations/__init__.py\u001b[0m in \u001b[0;36m<module>\u001b[0;34m\u001b[0m\n\u001b[1;32m     19\u001b[0m \u001b[0;32mfrom\u001b[0m \u001b[0m__future__\u001b[0m \u001b[0;32mimport\u001b[0m \u001b[0mprint_function\u001b[0m\u001b[0;34m\u001b[0m\u001b[0;34m\u001b[0m\u001b[0m\n\u001b[1;32m     20\u001b[0m \u001b[0;34m\u001b[0m\u001b[0m\n\u001b[0;32m---> 21\u001b[0;31m \u001b[0;32mfrom\u001b[0m \u001b[0mtensorflow_addons\u001b[0m\u001b[0;34m.\u001b[0m\u001b[0mactivations\u001b[0m\u001b[0;34m.\u001b[0m\u001b[0mgelu\u001b[0m \u001b[0;32mimport\u001b[0m \u001b[0mgelu\u001b[0m\u001b[0;34m\u001b[0m\u001b[0;34m\u001b[0m\u001b[0m\n\u001b[0m\u001b[1;32m     22\u001b[0m \u001b[0;32mfrom\u001b[0m \u001b[0mtensorflow_addons\u001b[0m\u001b[0;34m.\u001b[0m\u001b[0mactivations\u001b[0m\u001b[0;34m.\u001b[0m\u001b[0mhardshrink\u001b[0m \u001b[0;32mimport\u001b[0m \u001b[0mhardshrink\u001b[0m\u001b[0;34m\u001b[0m\u001b[0;34m\u001b[0m\u001b[0m\n\u001b[1;32m     23\u001b[0m \u001b[0;32mfrom\u001b[0m \u001b[0mtensorflow_addons\u001b[0m\u001b[0;34m.\u001b[0m\u001b[0mactivations\u001b[0m\u001b[0;34m.\u001b[0m\u001b[0mlisht\u001b[0m \u001b[0;32mimport\u001b[0m \u001b[0mlisht\u001b[0m\u001b[0;34m\u001b[0m\u001b[0;34m\u001b[0m\u001b[0m\n",
      "\u001b[0;32m~/anaconda3/lib/python3.7/site-packages/tensorflow_addons/activations/gelu.py\u001b[0m in \u001b[0;36m<module>\u001b[0;34m\u001b[0m\n\u001b[1;32m     22\u001b[0m \u001b[0;34m\u001b[0m\u001b[0m\n\u001b[1;32m     23\u001b[0m _activation_ops_so = tf.load_op_library(\n\u001b[0;32m---> 24\u001b[0;31m     get_path_to_datafile(\"custom_ops/activations/_activation_ops.so\"))\n\u001b[0m\u001b[1;32m     25\u001b[0m \u001b[0;34m\u001b[0m\u001b[0m\n\u001b[1;32m     26\u001b[0m \u001b[0;34m\u001b[0m\u001b[0m\n",
      "\u001b[0;32m~/anaconda3/lib/python3.7/site-packages/tensorflow/python/framework/load_library.py\u001b[0m in \u001b[0;36mload_op_library\u001b[0;34m(library_filename)\u001b[0m\n\u001b[1;32m     56\u001b[0m     \u001b[0mRuntimeError\u001b[0m\u001b[0;34m:\u001b[0m \u001b[0mwhen\u001b[0m \u001b[0munable\u001b[0m \u001b[0mto\u001b[0m \u001b[0mload\u001b[0m \u001b[0mthe\u001b[0m \u001b[0mlibrary\u001b[0m \u001b[0;32mor\u001b[0m \u001b[0mget\u001b[0m \u001b[0mthe\u001b[0m \u001b[0mpython\u001b[0m \u001b[0mwrappers\u001b[0m\u001b[0;34m.\u001b[0m\u001b[0;34m\u001b[0m\u001b[0;34m\u001b[0m\u001b[0m\n\u001b[1;32m     57\u001b[0m   \"\"\"\n\u001b[0;32m---> 58\u001b[0;31m   \u001b[0mlib_handle\u001b[0m \u001b[0;34m=\u001b[0m \u001b[0mpy_tf\u001b[0m\u001b[0;34m.\u001b[0m\u001b[0mTF_LoadLibrary\u001b[0m\u001b[0;34m(\u001b[0m\u001b[0mlibrary_filename\u001b[0m\u001b[0;34m)\u001b[0m\u001b[0;34m\u001b[0m\u001b[0;34m\u001b[0m\u001b[0m\n\u001b[0m\u001b[1;32m     59\u001b[0m   \u001b[0;32mtry\u001b[0m\u001b[0;34m:\u001b[0m\u001b[0;34m\u001b[0m\u001b[0;34m\u001b[0m\u001b[0m\n\u001b[1;32m     60\u001b[0m     wrappers = _pywrap_python_op_gen.GetPythonWrappers(\n",
      "\u001b[0;31mNotFoundError\u001b[0m: dlopen(/Users/neoapple/anaconda3/lib/python3.7/site-packages/tensorflow_addons/custom_ops/activations/_activation_ops.so, 6): Symbol not found: __ZN10tensorflow11GetNodeAttrERKNS_9AttrSliceEN4absl11string_viewEPb\n  Referenced from: /Users/neoapple/anaconda3/lib/python3.7/site-packages/tensorflow_addons/custom_ops/activations/_activation_ops.so\n  Expected in: /Users/neoapple/anaconda3/lib/python3.7/site-packages/tensorflow/python/../libtensorflow_framework.2.dylib\n in /Users/neoapple/anaconda3/lib/python3.7/site-packages/tensorflow_addons/custom_ops/activations/_activation_ops.so"
     ]
    }
   ],
   "source": [
    "import numpy as np\n",
    "\n",
    "import tensorflow as tf\n",
    "assert tf.__version__.startswith('2')\n",
    "\n",
    "from tensorflow_examples.lite.model_maker.core.data_util.image_dataloader import ImageClassifierDataLoader\n",
    "from tensorflow_examples.lite.model_maker.core.task import image_classifier\n",
    "from tensorflow_examples.lite.model_maker.core.task.model_spec import mobilenet_v2_spec\n",
    "from tensorflow_examples.lite.model_maker.core.task.model_spec import ImageModelSpec\n",
    "\n",
    "import matplotlib.pyplot as plt"
   ]
  },
  {
   "cell_type": "markdown",
   "metadata": {
    "colab_type": "text",
    "id": "KKRaYHABpob5"
   },
   "source": [
    "## Simple End-to-End Example"
   ]
  },
  {
   "cell_type": "markdown",
   "metadata": {
    "colab_type": "text",
    "id": "SiZZ5DHXotaW"
   },
   "source": [
    "### Get the data path\n",
    "\n",
    "Let's get some images to play with this simple end-to-end example. Hundreds of images is a good start for Model Maker while more data could achieve better accuracy."
   ]
  },
  {
   "cell_type": "code",
   "execution_count": null,
   "metadata": {
    "cellView": "form",
    "colab": {},
    "colab_type": "code",
    "id": "3jz5x0JoskPv"
   },
   "outputs": [],
   "source": [
    "image_path = tf.keras.utils.get_file(\n",
    "      'flower_photos',\n",
    "      'https://storage.googleapis.com/download.tensorflow.org/example_images/flower_photos.tgz',\n",
    "      untar=True)"
   ]
  },
  {
   "cell_type": "markdown",
   "metadata": {
    "colab_type": "text",
    "id": "a55MR6i6nuDm"
   },
   "source": [
    "You could replace `image_path` with your own image folders. As for uploading data to colab, you could find the upload button in the left sidebar shown in the image below with the red rectangle. Just have a try to upload a zip file and unzip it. The root file path is the current path.\n",
    "\n",
    "<img src=\"https://storage.googleapis.com/download.tensorflow.org/models/tflite/screenshots/model_maker_image_classification.png\" alt=\"Upload File\" width=\"800\" hspace=\"100\">"
   ]
  },
  {
   "cell_type": "markdown",
   "metadata": {
    "colab_type": "text",
    "id": "NNRNv_mloS89"
   },
   "source": [
    "If you prefer not to upload your images to the cloud, you could try to run the library locally following the [guide](https://github.com/tensorflow/examples/tree/master/tensorflow_examples/lite/model_maker) in github."
   ]
  },
  {
   "cell_type": "markdown",
   "metadata": {
    "colab_type": "text",
    "id": "w-VDriAdsowu"
   },
   "source": [
    "### Run the example\n",
    "The example just consists of 4 lines of code as shown below, each of which representing one step of the overall process.\n"
   ]
  },
  {
   "cell_type": "markdown",
   "metadata": {
    "colab_type": "text",
    "id": "6ahtcO86tZBL"
   },
   "source": [
    "1.   Load input data specific to an on-device ML app. Split it to training data and testing data."
   ]
  },
  {
   "cell_type": "code",
   "execution_count": null,
   "metadata": {
    "colab": {},
    "colab_type": "code",
    "id": "lANoNS_gtdH1"
   },
   "outputs": [],
   "source": [
    "data = ImageClassifierDataLoader.from_folder(image_path)\n",
    "train_data, test_data = data.split(0.9)"
   ]
  },
  {
   "cell_type": "markdown",
   "metadata": {
    "colab_type": "text",
    "id": "Y_9IWyIztuRF"
   },
   "source": [
    "2. Customize the TensorFlow model."
   ]
  },
  {
   "cell_type": "code",
   "execution_count": null,
   "metadata": {
    "colab": {},
    "colab_type": "code",
    "id": "yRXMZbrwtyRD"
   },
   "outputs": [],
   "source": [
    "model = image_classifier.create(train_data)"
   ]
  },
  {
   "cell_type": "markdown",
   "metadata": {
    "colab_type": "text",
    "id": "oxU2fDr-t2Ya"
   },
   "source": [
    "3. Evaluate the model."
   ]
  },
  {
   "cell_type": "code",
   "execution_count": null,
   "metadata": {
    "colab": {},
    "colab_type": "code",
    "id": "wQr02VxJt6Cs"
   },
   "outputs": [],
   "source": [
    "loss, accuracy = model.evaluate(test_data)"
   ]
  },
  {
   "cell_type": "markdown",
   "metadata": {
    "colab_type": "text",
    "id": "eVZw9zU8t84y"
   },
   "source": [
    "4.  Export to TensorFlow Lite model.\n",
    "You could download it in the left sidebar same as the uploading part for your own use."
   ]
  },
  {
   "cell_type": "code",
   "execution_count": null,
   "metadata": {
    "colab": {},
    "colab_type": "code",
    "id": "Zb-eIzfluCoa"
   },
   "outputs": [],
   "source": [
    "model.export(export_dir='.', with_metadata=True)"
   ]
  },
  {
   "cell_type": "markdown",
   "metadata": {
    "colab_type": "text",
    "id": "pyju1qc_v-wy"
   },
   "source": [
    "After this simple 4 steps, we can now download the model and label files, and continue to the next step in the [codelab](https://codelabs.developers.google.com/codelabs/recognize-flowers-with-tensorflow-on-android/#4).\n",
    "\n",
    "For a more comprehensive guide to TFLite Model Maker, please refer to this [notebook](https://colab.sandbox.google.com/github/tensorflow/examples/blob/master/tensorflow_examples/lite/model_maker/demo/image_classification.ipynb) and its [documentation](https://github.com/tensorflow/examples/tree/master/tensorflow_examples/lite/model_maker).\n"
   ]
  }
 ],
 "metadata": {
  "accelerator": "GPU",
  "colab": {
   "collapsed_sections": [],
   "name": "Flower_Classification_with_TFLite_Model_Maker.ipynb",
   "provenance": [],
   "toc_visible": true
  },
  "kernelspec": {
   "display_name": "Python 3",
   "language": "python",
   "name": "python3"
  },
  "language_info": {
   "codemirror_mode": {
    "name": "ipython",
    "version": 3
   },
   "file_extension": ".py",
   "mimetype": "text/x-python",
   "name": "python",
   "nbconvert_exporter": "python",
   "pygments_lexer": "ipython3",
   "version": "3.7.3"
  }
 },
 "nbformat": 4,
 "nbformat_minor": 1
}
